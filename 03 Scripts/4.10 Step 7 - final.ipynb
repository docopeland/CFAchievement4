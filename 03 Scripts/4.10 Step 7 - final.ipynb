{
 "cells": [
  {
   "cell_type": "markdown",
   "id": "72872f26",
   "metadata": {},
   "source": [
    "# Import Libraires"
   ]
  },
  {
   "cell_type": "code",
   "execution_count": 1,
   "id": "d4e3749e",
   "metadata": {},
   "outputs": [],
   "source": [
    "import os\n",
    "import pandas as pd\n",
    "import numpy as np\n",
    "import matplotlib.pyplot\n",
    "import seaborn as sns\n",
    "import scipy"
   ]
  },
  {
   "cell_type": "markdown",
   "id": "d4e0216a",
   "metadata": {},
   "source": [
    "# Import Data"
   ]
  },
  {
   "cell_type": "code",
   "execution_count": 2,
   "id": "3d0351b1",
   "metadata": {},
   "outputs": [],
   "source": [
    "path = r'/Users/docopeland/04 Instacart Basket Analysis'\n",
    "final = pd.read_pickle(os.path.join(path,'02 Data','prepared data','orders_products_all.pkl'))\n",
    "departments = pd.read_csv(os.path.join(path,'02 Data','prepared data','departments_clean.csv'))"
   ]
  },
  {
   "cell_type": "markdown",
   "id": "1eb618e7",
   "metadata": {},
   "source": [
    "# Deriving a region column"
   ]
  },
  {
   "cell_type": "code",
   "execution_count": 3,
   "id": "f4103334",
   "metadata": {},
   "outputs": [],
   "source": [
    "#creating a region column based on the state"
   ]
  },
  {
   "cell_type": "code",
   "execution_count": 4,
   "id": "3e4e9d2b",
   "metadata": {},
   "outputs": [],
   "source": [
    "#northeast region\n",
    "northeast = ['Maine','New Hampshire','Vermont','Massachusetts','Rhode Island','Connecticut','New York',\n",
    "             'Pennsylvania','New Jersey']"
   ]
  },
  {
   "cell_type": "code",
   "execution_count": 5,
   "id": "f11cb141",
   "metadata": {},
   "outputs": [],
   "source": [
    "#midwest region\n",
    "midwest = ['Wisconsin','Michigan','Illinois','Indiana','Ohio','North Dakota','South Dakota','Nebraska',\n",
    "           'Kansas','Minnesota','Iowa','Missouri']"
   ]
  },
  {
   "cell_type": "code",
   "execution_count": 6,
   "id": "3bf778b1",
   "metadata": {},
   "outputs": [],
   "source": [
    "#south region\n",
    "south = ['Delaware','Maryland','District of Columbia','Virginia','West Virginia','North Carolina',\n",
    "         'South Carolina','Georgia','Florida','Kentucky','Tennessee','Mississippi','Alabama',\n",
    "         'Oklahoma','Texas','Arkansas','Louisiana']"
   ]
  },
  {
   "cell_type": "code",
   "execution_count": 7,
   "id": "8d1ce80c",
   "metadata": {},
   "outputs": [],
   "source": [
    "#west region\n",
    "west = ['Idaho','Montana','Wyoming','Nevada','Utah','Colorado','Arizona','New Mexico','Alaska',\n",
    "        'Washington','Oregon','California','Hawaii']"
   ]
  },
  {
   "cell_type": "code",
   "execution_count": 8,
   "id": "42f8fd8a",
   "metadata": {},
   "outputs": [],
   "source": [
    "#create a list of regions\n",
    "region = []\n",
    "for val in final['state']:\n",
    "    if val in northeast:\n",
    "        region.append('Northeast')\n",
    "    if val in midwest:\n",
    "        region.append('Midwest')\n",
    "    if val in south:\n",
    "        region.append('South')\n",
    "    if val in west:\n",
    "        region.append('West')"
   ]
  },
  {
   "cell_type": "code",
   "execution_count": 9,
   "id": "1814c86a",
   "metadata": {},
   "outputs": [],
   "source": [
    "final['region'] = region"
   ]
  },
  {
   "cell_type": "markdown",
   "id": "7526f907",
   "metadata": {},
   "source": [
    "# Deriving an exclusion flag"
   ]
  },
  {
   "cell_type": "code",
   "execution_count": 10,
   "id": "61358cb1",
   "metadata": {},
   "outputs": [],
   "source": [
    "#create an exclusion flag based on the number of max orders\n",
    "#if max_order is less than 5, exclusion is False\n",
    "#if max_order is greater than or equal to 5, exclusion is True"
   ]
  },
  {
   "cell_type": "code",
   "execution_count": 11,
   "id": "2f1cf9ca",
   "metadata": {},
   "outputs": [],
   "source": [
    "#false exclusion\n",
    "final.loc[final['max_order'] < 5, 'exclusion_flag'] = False"
   ]
  },
  {
   "cell_type": "code",
   "execution_count": 12,
   "id": "771d9528",
   "metadata": {},
   "outputs": [],
   "source": [
    "#true exclusion\n",
    "final.loc[final['max_order'] >= 5, 'exclusion_flag'] = True"
   ]
  },
  {
   "cell_type": "code",
   "execution_count": 13,
   "id": "0311a271",
   "metadata": {},
   "outputs": [
    {
     "data": {
      "text/plain": [
       "True     30964564\n",
       "False     1440295\n",
       "Name: exclusion_flag, dtype: int64"
      ]
     },
     "execution_count": 13,
     "metadata": {},
     "output_type": "execute_result"
    }
   ],
   "source": [
    "#check values\n",
    "final['exclusion_flag'].value_counts()"
   ]
  },
  {
   "cell_type": "code",
   "execution_count": 14,
   "id": "c6ae4c37",
   "metadata": {},
   "outputs": [],
   "source": [
    "included = final[final['exclusion_flag'] == True]"
   ]
  },
  {
   "cell_type": "code",
   "execution_count": 15,
   "id": "1a1246dd",
   "metadata": {},
   "outputs": [
    {
     "data": {
      "text/plain": [
       "True    30964564\n",
       "Name: exclusion_flag, dtype: int64"
      ]
     },
     "execution_count": 15,
     "metadata": {},
     "output_type": "execute_result"
    }
   ],
   "source": [
    "included['exclusion_flag'].value_counts()"
   ]
  },
  {
   "cell_type": "code",
   "execution_count": 16,
   "id": "3f50ddbd",
   "metadata": {},
   "outputs": [
    {
     "data": {
      "text/plain": [
       "(30964564, 33)"
      ]
     },
     "execution_count": 16,
     "metadata": {},
     "output_type": "execute_result"
    }
   ],
   "source": [
    "included.shape"
   ]
  },
  {
   "cell_type": "markdown",
   "id": "93d49595",
   "metadata": {},
   "source": [
    "# Creating profiles"
   ]
  },
  {
   "cell_type": "code",
   "execution_count": 17,
   "id": "c89f9652",
   "metadata": {},
   "outputs": [],
   "source": [
    "#flags to create:\n",
    "#age flag - young adult (18 to 25), adult (26 to 65), older adult (65+)\n",
    "#parent flag - n_dependants > 0\n",
    "#income flag - low income (0 to 67,292), middle income (67,292 to 128,102), high income (128,102+)\n",
    "#order time of day flag - morning (0-11), afternoon (12-17), night (18-24)\n",
    "#order time of week flag - weekened (0-1), weekday (2-6)"
   ]
  },
  {
   "cell_type": "code",
   "execution_count": 18,
   "id": "19475897",
   "metadata": {},
   "outputs": [],
   "source": [
    "#age_flag for loop\n",
    "adulting = []\n",
    "for num in included['age']:\n",
    "    if num <=25:\n",
    "        adulting.append('young adult')\n",
    "    elif num > 25 and num <65:\n",
    "        adulting.append('mature adult')\n",
    "    else:\n",
    "        adulting.append('older adult')"
   ]
  },
  {
   "cell_type": "code",
   "execution_count": 19,
   "id": "d9601285",
   "metadata": {
    "scrolled": true
   },
   "outputs": [
    {
     "name": "stderr",
     "output_type": "stream",
     "text": [
      "/var/folders/zw/88f_mbgs7zz4slnzcgksqp2c0000gn/T/ipykernel_91080/1193966588.py:2: SettingWithCopyWarning: \n",
      "A value is trying to be set on a copy of a slice from a DataFrame.\n",
      "Try using .loc[row_indexer,col_indexer] = value instead\n",
      "\n",
      "See the caveats in the documentation: https://pandas.pydata.org/pandas-docs/stable/user_guide/indexing.html#returning-a-view-versus-a-copy\n",
      "  included['age_flag'] = adulting\n"
     ]
    }
   ],
   "source": [
    "#adding age flag to df\n",
    "included['age_flag'] = adulting"
   ]
  },
  {
   "cell_type": "code",
   "execution_count": 20,
   "id": "b8818b75",
   "metadata": {},
   "outputs": [
    {
     "data": {
      "text/plain": [
       "mature adult    18904502\n",
       "older adult      8195544\n",
       "young adult      3864518\n",
       "Name: age_flag, dtype: int64"
      ]
     },
     "execution_count": 20,
     "metadata": {},
     "output_type": "execute_result"
    }
   ],
   "source": [
    "included['age_flag'].value_counts()"
   ]
  },
  {
   "cell_type": "code",
   "execution_count": 21,
   "id": "7cc946e2",
   "metadata": {},
   "outputs": [
    {
     "name": "stderr",
     "output_type": "stream",
     "text": [
      "/Users/docopeland/opt/anaconda3/lib/python3.9/site-packages/pandas/core/indexing.py:1684: SettingWithCopyWarning: \n",
      "A value is trying to be set on a copy of a slice from a DataFrame.\n",
      "Try using .loc[row_indexer,col_indexer] = value instead\n",
      "\n",
      "See the caveats in the documentation: https://pandas.pydata.org/pandas-docs/stable/user_guide/indexing.html#returning-a-view-versus-a-copy\n",
      "  self.obj[key] = infer_fill_value(value)\n",
      "/Users/docopeland/opt/anaconda3/lib/python3.9/site-packages/pandas/core/indexing.py:1817: SettingWithCopyWarning: \n",
      "A value is trying to be set on a copy of a slice from a DataFrame.\n",
      "Try using .loc[row_indexer,col_indexer] = value instead\n",
      "\n",
      "See the caveats in the documentation: https://pandas.pydata.org/pandas-docs/stable/user_guide/indexing.html#returning-a-view-versus-a-copy\n",
      "  self._setitem_single_column(loc, value, pi)\n"
     ]
    }
   ],
   "source": [
    "#parent_flag, parent\n",
    "included.loc[included['n_dependants'] > 0, 'parent_flag'] = 'parent'"
   ]
  },
  {
   "cell_type": "code",
   "execution_count": 22,
   "id": "68e169d1",
   "metadata": {},
   "outputs": [],
   "source": [
    "#parent_flag, not parent\n",
    "included.loc[included['n_dependants'] == 0, 'parent_flag'] = 'not parent'"
   ]
  },
  {
   "cell_type": "code",
   "execution_count": 23,
   "id": "e6f7ee19",
   "metadata": {},
   "outputs": [
    {
     "data": {
      "text/plain": [
       "parent        23224883\n",
       "not parent     7739681\n",
       "Name: parent_flag, dtype: int64"
      ]
     },
     "execution_count": 23,
     "metadata": {},
     "output_type": "execute_result"
    }
   ],
   "source": [
    "included['parent_flag'].value_counts()"
   ]
  },
  {
   "cell_type": "code",
   "execution_count": 24,
   "id": "4a82dbe0",
   "metadata": {},
   "outputs": [],
   "source": [
    "#income_flag, for loop\n",
    "inco = []\n",
    "for val in included['income']:\n",
    "    if val <= 67292:\n",
    "        inco.append('Low-income')\n",
    "    elif val > 67292 and val <=128102:\n",
    "        inco.append('Mid-income')\n",
    "    else:\n",
    "        inco.append('High-income')"
   ]
  },
  {
   "cell_type": "code",
   "execution_count": 25,
   "id": "f2bba878",
   "metadata": {},
   "outputs": [
    {
     "name": "stderr",
     "output_type": "stream",
     "text": [
      "/var/folders/zw/88f_mbgs7zz4slnzcgksqp2c0000gn/T/ipykernel_91080/2327613873.py:2: SettingWithCopyWarning: \n",
      "A value is trying to be set on a copy of a slice from a DataFrame.\n",
      "Try using .loc[row_indexer,col_indexer] = value instead\n",
      "\n",
      "See the caveats in the documentation: https://pandas.pydata.org/pandas-docs/stable/user_guide/indexing.html#returning-a-view-versus-a-copy\n",
      "  included['income_flag'] = inco\n"
     ]
    }
   ],
   "source": [
    "#income_flag, add to df\n",
    "included['income_flag'] = inco"
   ]
  },
  {
   "cell_type": "code",
   "execution_count": 26,
   "id": "092a00cb",
   "metadata": {},
   "outputs": [
    {
     "data": {
      "text/plain": [
       "Mid-income     15482125\n",
       "Low-income      7741348\n",
       "High-income     7741091\n",
       "Name: income_flag, dtype: int64"
      ]
     },
     "execution_count": 26,
     "metadata": {},
     "output_type": "execute_result"
    }
   ],
   "source": [
    "included['income_flag'].value_counts()"
   ]
  },
  {
   "cell_type": "code",
   "execution_count": 27,
   "id": "960e024b",
   "metadata": {},
   "outputs": [],
   "source": [
    "#time_of_day, for loop\n",
    "tod = []\n",
    "for hour in included['order_hour_of_day']:\n",
    "    if hour <= 11:\n",
    "        tod.append('Morning')\n",
    "    elif hour > 12 and hour <= 17:\n",
    "        tod.append('Afternoon')\n",
    "    else:\n",
    "        tod.append('Night')"
   ]
  },
  {
   "cell_type": "code",
   "execution_count": 28,
   "id": "44012b91",
   "metadata": {},
   "outputs": [
    {
     "name": "stderr",
     "output_type": "stream",
     "text": [
      "/var/folders/zw/88f_mbgs7zz4slnzcgksqp2c0000gn/T/ipykernel_91080/1005776706.py:2: SettingWithCopyWarning: \n",
      "A value is trying to be set on a copy of a slice from a DataFrame.\n",
      "Try using .loc[row_indexer,col_indexer] = value instead\n",
      "\n",
      "See the caveats in the documentation: https://pandas.pydata.org/pandas-docs/stable/user_guide/indexing.html#returning-a-view-versus-a-copy\n",
      "  included['time_of_day'] = tod\n"
     ]
    }
   ],
   "source": [
    "#time_of_day, add to df\n",
    "included['time_of_day'] = tod"
   ]
  },
  {
   "cell_type": "code",
   "execution_count": 29,
   "id": "93881387",
   "metadata": {},
   "outputs": [
    {
     "data": {
      "text/plain": [
       "Afternoon    12039171\n",
       "Morning      10998902\n",
       "Night         7926491\n",
       "Name: time_of_day, dtype: int64"
      ]
     },
     "execution_count": 29,
     "metadata": {},
     "output_type": "execute_result"
    }
   ],
   "source": [
    "included['time_of_day'].value_counts()"
   ]
  },
  {
   "cell_type": "code",
   "execution_count": 30,
   "id": "8db5f96e",
   "metadata": {},
   "outputs": [],
   "source": [
    "#time_of_week, weekend\n",
    "included.loc[included['order_day_of_week'] <= 1, 'time_of_week'] = 'Weekend'"
   ]
  },
  {
   "cell_type": "code",
   "execution_count": 31,
   "id": "1e402764",
   "metadata": {},
   "outputs": [],
   "source": [
    "#time_of_week, weekday\n",
    "included.loc[included['order_day_of_week'] > 1 , 'time_of_week'] = \"Weekday\""
   ]
  },
  {
   "cell_type": "code",
   "execution_count": 32,
   "id": "2ca23656",
   "metadata": {},
   "outputs": [
    {
     "data": {
      "text/plain": [
       "Weekday    19644268\n",
       "Weekend    11320296\n",
       "Name: time_of_week, dtype: int64"
      ]
     },
     "execution_count": 32,
     "metadata": {},
     "output_type": "execute_result"
    }
   ],
   "source": [
    "included['time_of_week'].value_counts()"
   ]
  },
  {
   "cell_type": "code",
   "execution_count": 33,
   "id": "ae367a48",
   "metadata": {},
   "outputs": [],
   "source": [
    "#profiles to create\n",
    "#single adult - !parent + (fam_status = single or divorced/widowed)\n",
    "#single parent - parent + (fam_status = single or divorced/widowed)\n",
    "#family - parent + (fam_status = married)\n",
    "#couple - !parent + (fam_status = married)\n",
    "#supported parent - parent + (fam_status = living with parents and siblings)\n",
    "#supported adult - !parent + (fam_status = living with parents and siblings)"
   ]
  },
  {
   "cell_type": "code",
   "execution_count": 34,
   "id": "da1ad1b9",
   "metadata": {},
   "outputs": [
    {
     "data": {
      "text/plain": [
       "married                             21743711\n",
       "single                               5094410\n",
       "divorced/widowed                     2645271\n",
       "living with parents and siblings     1481172\n",
       "Name: fam_status, dtype: int64"
      ]
     },
     "execution_count": 34,
     "metadata": {},
     "output_type": "execute_result"
    }
   ],
   "source": [
    "included['fam_status'].value_counts()"
   ]
  },
  {
   "cell_type": "code",
   "execution_count": 35,
   "id": "58472bc8",
   "metadata": {},
   "outputs": [
    {
     "data": {
      "text/plain": [
       "parent        23224883\n",
       "not parent     7739681\n",
       "Name: parent_flag, dtype: int64"
      ]
     },
     "execution_count": 35,
     "metadata": {},
     "output_type": "execute_result"
    }
   ],
   "source": [
    "included['parent_flag'].value_counts()"
   ]
  },
  {
   "cell_type": "code",
   "execution_count": 36,
   "id": "dbd504b0",
   "metadata": {},
   "outputs": [],
   "source": [
    "#profile, for loop\n",
    "pro = []\n",
    "for par, fam in zip(included['parent_flag'],included['fam_status']):\n",
    "    if (par == 'not parent') and (fam == 'single' or fam == 'divorced/widowed'):\n",
    "        pro.append('single adult')\n",
    "    elif (par == 'parent') and (fam == 'single' or fam == 'divorced/widowed'):\n",
    "        pro.append('single parent')\n",
    "    elif (par == 'parent') and (fam == 'married'):\n",
    "        pro.append('family')\n",
    "    elif (par == 'not parent') and (fam == 'married'):\n",
    "        pro.append('couple')\n",
    "    elif (par == 'parent') and (fam == 'living with parents and siblings'):\n",
    "        pro.append('supported parent')\n",
    "    else:\n",
    "        pro.append('supported adult')"
   ]
  },
  {
   "cell_type": "code",
   "execution_count": 37,
   "id": "1d10bcd8",
   "metadata": {},
   "outputs": [
    {
     "name": "stderr",
     "output_type": "stream",
     "text": [
      "/var/folders/zw/88f_mbgs7zz4slnzcgksqp2c0000gn/T/ipykernel_91080/3177052029.py:2: SettingWithCopyWarning: \n",
      "A value is trying to be set on a copy of a slice from a DataFrame.\n",
      "Try using .loc[row_indexer,col_indexer] = value instead\n",
      "\n",
      "See the caveats in the documentation: https://pandas.pydata.org/pandas-docs/stable/user_guide/indexing.html#returning-a-view-versus-a-copy\n",
      "  included['profile'] = pro\n"
     ]
    }
   ],
   "source": [
    "#adding pro to df\n",
    "included['profile'] = pro"
   ]
  },
  {
   "cell_type": "code",
   "execution_count": 38,
   "id": "f3e46184",
   "metadata": {},
   "outputs": [
    {
     "data": {
      "text/plain": [
       "family              21743711\n",
       "single adult         7739681\n",
       "supported parent     1481172\n",
       "Name: profile, dtype: int64"
      ]
     },
     "execution_count": 38,
     "metadata": {},
     "output_type": "execute_result"
    }
   ],
   "source": [
    "#checking profile value counts\n",
    "included['profile'].value_counts()"
   ]
  },
  {
   "cell_type": "markdown",
   "id": "90af2b0e",
   "metadata": {},
   "source": [
    "# Adding Department Data"
   ]
  },
  {
   "cell_type": "code",
   "execution_count": 39,
   "id": "2241c6fa",
   "metadata": {
    "scrolled": true
   },
   "outputs": [
    {
     "data": {
      "text/html": [
       "<div>\n",
       "<style scoped>\n",
       "    .dataframe tbody tr th:only-of-type {\n",
       "        vertical-align: middle;\n",
       "    }\n",
       "\n",
       "    .dataframe tbody tr th {\n",
       "        vertical-align: top;\n",
       "    }\n",
       "\n",
       "    .dataframe thead th {\n",
       "        text-align: right;\n",
       "    }\n",
       "</style>\n",
       "<table border=\"1\" class=\"dataframe\">\n",
       "  <thead>\n",
       "    <tr style=\"text-align: right;\">\n",
       "      <th></th>\n",
       "      <th>Unnamed: 0</th>\n",
       "      <th>department</th>\n",
       "    </tr>\n",
       "  </thead>\n",
       "  <tbody>\n",
       "    <tr>\n",
       "      <th>0</th>\n",
       "      <td>1</td>\n",
       "      <td>frozen</td>\n",
       "    </tr>\n",
       "    <tr>\n",
       "      <th>1</th>\n",
       "      <td>2</td>\n",
       "      <td>other</td>\n",
       "    </tr>\n",
       "    <tr>\n",
       "      <th>2</th>\n",
       "      <td>3</td>\n",
       "      <td>bakery</td>\n",
       "    </tr>\n",
       "    <tr>\n",
       "      <th>3</th>\n",
       "      <td>4</td>\n",
       "      <td>produce</td>\n",
       "    </tr>\n",
       "    <tr>\n",
       "      <th>4</th>\n",
       "      <td>5</td>\n",
       "      <td>alcohol</td>\n",
       "    </tr>\n",
       "  </tbody>\n",
       "</table>\n",
       "</div>"
      ],
      "text/plain": [
       "   Unnamed: 0 department\n",
       "0           1     frozen\n",
       "1           2      other\n",
       "2           3     bakery\n",
       "3           4    produce\n",
       "4           5    alcohol"
      ]
     },
     "execution_count": 39,
     "metadata": {},
     "output_type": "execute_result"
    }
   ],
   "source": [
    "departments.head()"
   ]
  },
  {
   "cell_type": "code",
   "execution_count": 40,
   "id": "2c7243a7",
   "metadata": {},
   "outputs": [],
   "source": [
    "#dropping first column\n",
    "departments = departments.drop(columns = ['Unnamed: 0'])"
   ]
  },
  {
   "cell_type": "code",
   "execution_count": 41,
   "id": "abd42191",
   "metadata": {},
   "outputs": [],
   "source": [
    "#set the df to be a dictionary\n",
    "depart_dict = departments.to_dict()"
   ]
  },
  {
   "cell_type": "code",
   "execution_count": 42,
   "id": "610d35db",
   "metadata": {},
   "outputs": [],
   "source": [
    "#since it's a nested dictionary, saving the nested part into another dict\n",
    "d_dict = depart_dict.get('department')"
   ]
  },
  {
   "cell_type": "code",
   "execution_count": 43,
   "id": "79b332ca",
   "metadata": {},
   "outputs": [
    {
     "data": {
      "text/plain": [
       "1     2121731\n",
       "2       34411\n",
       "3     1120828\n",
       "4     9079273\n",
       "5      144627\n",
       "6      255991\n",
       "7     2571901\n",
       "8       93060\n",
       "9      822136\n",
       "10      33451\n",
       "11     424306\n",
       "12     674781\n",
       "13    1782705\n",
       "14     670850\n",
       "15    1012074\n",
       "16    5177182\n",
       "17     699857\n",
       "18     410392\n",
       "19    2766406\n",
       "20    1003834\n",
       "21      64768\n",
       "Name: department_id, dtype: int64"
      ]
     },
     "execution_count": 43,
     "metadata": {},
     "output_type": "execute_result"
    }
   ],
   "source": [
    "#viewing the department_ids in the df\n",
    "included['department_id'].value_counts().sort_index()"
   ]
  },
  {
   "cell_type": "code",
   "execution_count": 44,
   "id": "33fc0a43",
   "metadata": {},
   "outputs": [
    {
     "data": {
      "text/plain": [
       "dict_keys([0, 1, 2, 3, 4, 5, 6, 7, 8, 9, 10, 11, 12, 13, 14, 15, 16, 17, 18, 19, 20])"
      ]
     },
     "execution_count": 44,
     "metadata": {},
     "output_type": "execute_result"
    }
   ],
   "source": [
    "#checking to see if the d_dict.keys() match the department_ids, they don't, they're one lower\n",
    "d_dict.keys()"
   ]
  },
  {
   "cell_type": "code",
   "execution_count": 45,
   "id": "c6d98854",
   "metadata": {},
   "outputs": [],
   "source": [
    "#creating a list of the different departments, for loop\n",
    "all_IDs = []\n",
    "for ID in included['department_id']:\n",
    "    a = d_dict.get(ID-1)\n",
    "    all_IDs.append(a)"
   ]
  },
  {
   "cell_type": "code",
   "execution_count": 46,
   "id": "c2a6d76f",
   "metadata": {},
   "outputs": [
    {
     "name": "stderr",
     "output_type": "stream",
     "text": [
      "/var/folders/zw/88f_mbgs7zz4slnzcgksqp2c0000gn/T/ipykernel_91080/3673058569.py:2: SettingWithCopyWarning: \n",
      "A value is trying to be set on a copy of a slice from a DataFrame.\n",
      "Try using .loc[row_indexer,col_indexer] = value instead\n",
      "\n",
      "See the caveats in the documentation: https://pandas.pydata.org/pandas-docs/stable/user_guide/indexing.html#returning-a-view-versus-a-copy\n",
      "  included['department'] = all_IDs\n"
     ]
    }
   ],
   "source": [
    "#adding the list to the df\n",
    "included['department'] = all_IDs"
   ]
  },
  {
   "cell_type": "code",
   "execution_count": 47,
   "id": "a3e1846f",
   "metadata": {},
   "outputs": [
    {
     "data": {
      "text/plain": [
       "produce            9079273\n",
       "dairy eggs         5177182\n",
       "snacks             2766406\n",
       "beverages          2571901\n",
       "frozen             2121731\n",
       "pantry             1782705\n",
       "bakery             1120828\n",
       "canned goods       1012074\n",
       "deli               1003834\n",
       "dry goods pasta     822136\n",
       "household           699857\n",
       "meat seafood        674781\n",
       "breakfast           670850\n",
       "personal care       424306\n",
       "babies              410392\n",
       "international       255991\n",
       "alcohol             144627\n",
       "pets                 93060\n",
       "missing              64768\n",
       "other                34411\n",
       "bulk                 33451\n",
       "Name: department, dtype: int64"
      ]
     },
     "execution_count": 47,
     "metadata": {},
     "output_type": "execute_result"
    }
   ],
   "source": [
    "#check the department vavlues\n",
    "included['department'].value_counts()"
   ]
  },
  {
   "cell_type": "code",
   "execution_count": 48,
   "id": "8f2a1062",
   "metadata": {},
   "outputs": [
    {
     "data": {
      "text/plain": [
       "4     9079273\n",
       "16    5177182\n",
       "19    2766406\n",
       "7     2571901\n",
       "1     2121731\n",
       "13    1782705\n",
       "3     1120828\n",
       "15    1012074\n",
       "20    1003834\n",
       "9      822136\n",
       "17     699857\n",
       "12     674781\n",
       "14     670850\n",
       "11     424306\n",
       "18     410392\n",
       "6      255991\n",
       "5      144627\n",
       "8       93060\n",
       "21      64768\n",
       "2       34411\n",
       "10      33451\n",
       "Name: department_id, dtype: int64"
      ]
     },
     "execution_count": 48,
     "metadata": {},
     "output_type": "execute_result"
    }
   ],
   "source": [
    "#checking that the department_id value counts match up, they do\n",
    "included['department_id'].value_counts()"
   ]
  },
  {
   "cell_type": "markdown",
   "id": "6eebfcf7",
   "metadata": {},
   "source": [
    "# Exporting data"
   ]
  },
  {
   "cell_type": "code",
   "execution_count": 49,
   "id": "5fb3c5ce",
   "metadata": {},
   "outputs": [],
   "source": [
    "included.to_pickle(os.path.join(path,'02 Data','prepared data','final.pkl'))"
   ]
  },
  {
   "cell_type": "code",
   "execution_count": null,
   "id": "faa96d1f",
   "metadata": {},
   "outputs": [],
   "source": []
  }
 ],
 "metadata": {
  "kernelspec": {
   "display_name": "Python 3 (ipykernel)",
   "language": "python",
   "name": "python3"
  },
  "language_info": {
   "codemirror_mode": {
    "name": "ipython",
    "version": 3
   },
   "file_extension": ".py",
   "mimetype": "text/x-python",
   "name": "python",
   "nbconvert_exporter": "python",
   "pygments_lexer": "ipython3",
   "version": "3.9.7"
  }
 },
 "nbformat": 4,
 "nbformat_minor": 5
}
