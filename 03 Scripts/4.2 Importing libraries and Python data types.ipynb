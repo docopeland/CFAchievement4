{
 "cells": [
  {
   "cell_type": "markdown",
   "id": "c21a7aa4",
   "metadata": {},
   "source": [
    "# Importing Libraries"
   ]
  },
  {
   "cell_type": "code",
   "execution_count": 1,
   "id": "11599707",
   "metadata": {},
   "outputs": [],
   "source": [
    "# Import libraries\n",
    "import pandas \n",
    "import numpy\n",
    "import os"
   ]
  },
  {
   "cell_type": "code",
   "execution_count": 1,
   "id": "b7f052e4",
   "metadata": {},
   "outputs": [
    {
     "name": "stdout",
     "output_type": "stream",
     "text": [
      "100\n",
      "100\n",
      "100\n",
      "2.48\n"
     ]
    }
   ],
   "source": [
    "# Data types\n",
    "# creating 100 with numeric\n",
    "a = 22\n",
    "b = 78\n",
    "c = a + b\n",
    "print(c)\n",
    "d = 8 \n",
    "e = 92\n",
    "f = d + e\n",
    "print(f)\n",
    "f = 538\n",
    "g = 438\n",
    "h = f - g\n",
    "print(h)\n",
    "#dividing floats\n",
    "i = 6.2\n",
    "j = 2.5\n",
    "k = i / j\n",
    "print(k)"
   ]
  },
  {
   "cell_type": "code",
   "execution_count": 5,
   "id": "b8089c22",
   "metadata": {},
   "outputs": [
    {
     "name": "stdout",
     "output_type": "stream",
     "text": [
      "arigato\n",
      "L is for the way you look at me. O is for the only one I see.\n"
     ]
    }
   ],
   "source": [
    "# Strings\n",
    "# concatenate a word\n",
    "e = \"ari\"\n",
    "f = \"gato\"\n",
    "g = e + f\n",
    "print(g)\n",
    "# concatenate two sentences\n",
    "h = \"L is for the way you look at me.\"\n",
    "i = \"O is for the only one I see.\"\n",
    "j = h + \" \" + i\n",
    "print(j)"
   ]
  },
  {
   "cell_type": "code",
   "execution_count": 4,
   "id": "6bf8b4eb",
   "metadata": {},
   "outputs": [
    {
     "name": "stdout",
     "output_type": "stream",
     "text": [
      "stringstringstringstringstringstringstringstringstringstringstringstringstringstringstringstringstringstringstringstringstringstringstringstringstringstringstringstringstringstringstringstringstringstringstringstringstringstringstringstringstringstringstringstringstringstringstringstringstringstringstringstringstringstringstringstringstringstringstringstringstringstringstringstringstringstringstringstringstringstringstringstringstringstringstringstringstringstringstringstringstringstringstringstringstringstringstringstringstringstringstringstringstringstringstringstringstringstringstringstring\n"
     ]
    }
   ],
   "source": [
    "bonus = \"string\" * 100\n",
    "print(bonus)"
   ]
  }
 ],
 "metadata": {
  "kernelspec": {
   "display_name": "Python 3 (ipykernel)",
   "language": "python",
   "name": "python3"
  },
  "language_info": {
   "codemirror_mode": {
    "name": "ipython",
    "version": 3
   },
   "file_extension": ".py",
   "mimetype": "text/x-python",
   "name": "python",
   "nbconvert_exporter": "python",
   "pygments_lexer": "ipython3",
   "version": "3.9.7"
  }
 },
 "nbformat": 4,
 "nbformat_minor": 5
}
