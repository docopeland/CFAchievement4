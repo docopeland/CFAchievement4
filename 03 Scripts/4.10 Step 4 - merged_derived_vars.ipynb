{
 "cells": [
  {
   "cell_type": "markdown",
   "id": "6a53b2be",
   "metadata": {},
   "source": [
    "# Importing Libraries"
   ]
  },
  {
   "cell_type": "code",
   "execution_count": 1,
   "id": "67733e70",
   "metadata": {},
   "outputs": [],
   "source": [
    "import os\n",
    "import pandas as pd\n",
    "import numpy"
   ]
  },
  {
   "cell_type": "markdown",
   "id": "bd5eae63",
   "metadata": {},
   "source": [
    "# Importing Data"
   ]
  },
  {
   "cell_type": "code",
   "execution_count": 2,
   "id": "270e3410",
   "metadata": {},
   "outputs": [],
   "source": [
    "path = r'/Users/docopeland/04 Instacart Basket Analysis'\n",
    "merged = pd.read_pickle(os.path.join(path,'02 Data','prepared data','orders_products_merged.pkl'))"
   ]
  },
  {
   "cell_type": "markdown",
   "id": "0d948ded",
   "metadata": {},
   "source": [
    "# Checking out data"
   ]
  },
  {
   "cell_type": "code",
   "execution_count": 3,
   "id": "9a20a2f6",
   "metadata": {},
   "outputs": [
    {
     "data": {
      "text/html": [
       "<div>\n",
       "<style scoped>\n",
       "    .dataframe tbody tr th:only-of-type {\n",
       "        vertical-align: middle;\n",
       "    }\n",
       "\n",
       "    .dataframe tbody tr th {\n",
       "        vertical-align: top;\n",
       "    }\n",
       "\n",
       "    .dataframe thead th {\n",
       "        text-align: right;\n",
       "    }\n",
       "</style>\n",
       "<table border=\"1\" class=\"dataframe\">\n",
       "  <thead>\n",
       "    <tr style=\"text-align: right;\">\n",
       "      <th></th>\n",
       "      <th>order_id</th>\n",
       "      <th>user_id</th>\n",
       "      <th>total_customer_orders</th>\n",
       "      <th>order_day_of_week</th>\n",
       "      <th>order_hour_of_day</th>\n",
       "      <th>days_since_prior_order</th>\n",
       "      <th>product_id</th>\n",
       "      <th>add_to_cart_order</th>\n",
       "      <th>reordered</th>\n",
       "      <th>_merge</th>\n",
       "      <th>product_name</th>\n",
       "      <th>aisle_id</th>\n",
       "      <th>department_id</th>\n",
       "      <th>prices</th>\n",
       "    </tr>\n",
       "  </thead>\n",
       "  <tbody>\n",
       "    <tr>\n",
       "      <th>0</th>\n",
       "      <td>2539329</td>\n",
       "      <td>1</td>\n",
       "      <td>1</td>\n",
       "      <td>2</td>\n",
       "      <td>8</td>\n",
       "      <td>NaN</td>\n",
       "      <td>196</td>\n",
       "      <td>1</td>\n",
       "      <td>0</td>\n",
       "      <td>both</td>\n",
       "      <td>Soda</td>\n",
       "      <td>77</td>\n",
       "      <td>7</td>\n",
       "      <td>9.0</td>\n",
       "    </tr>\n",
       "    <tr>\n",
       "      <th>1</th>\n",
       "      <td>2398795</td>\n",
       "      <td>1</td>\n",
       "      <td>2</td>\n",
       "      <td>3</td>\n",
       "      <td>7</td>\n",
       "      <td>15.0</td>\n",
       "      <td>196</td>\n",
       "      <td>1</td>\n",
       "      <td>1</td>\n",
       "      <td>both</td>\n",
       "      <td>Soda</td>\n",
       "      <td>77</td>\n",
       "      <td>7</td>\n",
       "      <td>9.0</td>\n",
       "    </tr>\n",
       "    <tr>\n",
       "      <th>2</th>\n",
       "      <td>473747</td>\n",
       "      <td>1</td>\n",
       "      <td>3</td>\n",
       "      <td>3</td>\n",
       "      <td>12</td>\n",
       "      <td>21.0</td>\n",
       "      <td>196</td>\n",
       "      <td>1</td>\n",
       "      <td>1</td>\n",
       "      <td>both</td>\n",
       "      <td>Soda</td>\n",
       "      <td>77</td>\n",
       "      <td>7</td>\n",
       "      <td>9.0</td>\n",
       "    </tr>\n",
       "    <tr>\n",
       "      <th>3</th>\n",
       "      <td>2254736</td>\n",
       "      <td>1</td>\n",
       "      <td>4</td>\n",
       "      <td>4</td>\n",
       "      <td>7</td>\n",
       "      <td>29.0</td>\n",
       "      <td>196</td>\n",
       "      <td>1</td>\n",
       "      <td>1</td>\n",
       "      <td>both</td>\n",
       "      <td>Soda</td>\n",
       "      <td>77</td>\n",
       "      <td>7</td>\n",
       "      <td>9.0</td>\n",
       "    </tr>\n",
       "    <tr>\n",
       "      <th>4</th>\n",
       "      <td>431534</td>\n",
       "      <td>1</td>\n",
       "      <td>5</td>\n",
       "      <td>4</td>\n",
       "      <td>15</td>\n",
       "      <td>28.0</td>\n",
       "      <td>196</td>\n",
       "      <td>1</td>\n",
       "      <td>1</td>\n",
       "      <td>both</td>\n",
       "      <td>Soda</td>\n",
       "      <td>77</td>\n",
       "      <td>7</td>\n",
       "      <td>9.0</td>\n",
       "    </tr>\n",
       "  </tbody>\n",
       "</table>\n",
       "</div>"
      ],
      "text/plain": [
       "   order_id  user_id  total_customer_orders  order_day_of_week  \\\n",
       "0   2539329        1                      1                  2   \n",
       "1   2398795        1                      2                  3   \n",
       "2    473747        1                      3                  3   \n",
       "3   2254736        1                      4                  4   \n",
       "4    431534        1                      5                  4   \n",
       "\n",
       "   order_hour_of_day  days_since_prior_order  product_id  add_to_cart_order  \\\n",
       "0                  8                     NaN         196                  1   \n",
       "1                  7                    15.0         196                  1   \n",
       "2                 12                    21.0         196                  1   \n",
       "3                  7                    29.0         196                  1   \n",
       "4                 15                    28.0         196                  1   \n",
       "\n",
       "   reordered _merge product_name  aisle_id  department_id  prices  \n",
       "0          0   both         Soda        77              7     9.0  \n",
       "1          1   both         Soda        77              7     9.0  \n",
       "2          1   both         Soda        77              7     9.0  \n",
       "3          1   both         Soda        77              7     9.0  \n",
       "4          1   both         Soda        77              7     9.0  "
      ]
     },
     "execution_count": 3,
     "metadata": {},
     "output_type": "execute_result"
    }
   ],
   "source": [
    "merged.head()"
   ]
  },
  {
   "cell_type": "code",
   "execution_count": 4,
   "id": "ceed5beb",
   "metadata": {},
   "outputs": [
    {
     "data": {
      "text/plain": [
       "(32404859, 14)"
      ]
     },
     "execution_count": 4,
     "metadata": {},
     "output_type": "execute_result"
    }
   ],
   "source": [
    "merged.shape"
   ]
  },
  {
   "cell_type": "markdown",
   "id": "e3c65ce5",
   "metadata": {},
   "source": [
    "# Deriving New Variables"
   ]
  },
  {
   "cell_type": "markdown",
   "id": "fc2638bd",
   "metadata": {},
   "source": [
    "## Creating a price_range column"
   ]
  },
  {
   "cell_type": "code",
   "execution_count": 5,
   "id": "c7f8f01d",
   "metadata": {},
   "outputs": [],
   "source": [
    "#the logic for the price_range column is as follows:\n",
    "#if price is less than or equal to $5, Low-range product\n",
    "#if price is greater $5 and less than or equal to $15, Mid-range product\n",
    "#if price is greather than $15, High-range product"
   ]
  },
  {
   "cell_type": "code",
   "execution_count": 7,
   "id": "b416d0d9",
   "metadata": {},
   "outputs": [],
   "source": [
    "#low-range product\n",
    "merged.loc[merged['prices'] <= 5, 'price_range_loc'] = 'Low-range product'"
   ]
  },
  {
   "cell_type": "code",
   "execution_count": 8,
   "id": "f6c080fd",
   "metadata": {},
   "outputs": [],
   "source": [
    "#mid-range product\n",
    "merged.loc[(merged['prices'] > 5) & (merged['prices'] <= 15), 'price_range_loc'] = 'Mid-range product'"
   ]
  },
  {
   "cell_type": "code",
   "execution_count": 9,
   "id": "4a0e8226",
   "metadata": {},
   "outputs": [],
   "source": [
    "#high-range product\n",
    "merged.loc[merged['prices'] > 15, 'price_range_loc'] = 'High-range product'"
   ]
  },
  {
   "cell_type": "code",
   "execution_count": 11,
   "id": "215968b0",
   "metadata": {},
   "outputs": [
    {
     "data": {
      "text/plain": [
       "Mid-range product     21860860\n",
       "Low-range product     10126321\n",
       "High-range product      417678\n",
       "Name: price_range_loc, dtype: int64"
      ]
     },
     "execution_count": 11,
     "metadata": {},
     "output_type": "execute_result"
    }
   ],
   "source": [
    "#checking column\n",
    "merged['price_range_loc'].value_counts()"
   ]
  },
  {
   "cell_type": "markdown",
   "id": "8aaef6b9",
   "metadata": {},
   "source": [
    "## Creating a busiest day column"
   ]
  },
  {
   "cell_type": "code",
   "execution_count": null,
   "id": "9d4fcf6b",
   "metadata": {},
   "outputs": [],
   "source": [
    "#the logic of the busiest_day column is as follows:\n",
    "#the busiest day is set to 'Busiest day'\n",
    "#the least busiest day is set to 'Least busy'\n",
    "#all other days are set to 'Regularly busy'"
   ]
  },
  {
   "cell_type": "code",
   "execution_count": 17,
   "id": "86719a25",
   "metadata": {},
   "outputs": [
    {
     "data": {
      "text/plain": [
       "0    6204182\n",
       "1    5660230\n",
       "6    4496490\n",
       "2    4213830\n",
       "5    4205791\n",
       "3    3840534\n",
       "4    3783802\n",
       "Name: order_day_of_week, dtype: int64"
      ]
     },
     "execution_count": 17,
     "metadata": {},
     "output_type": "execute_result"
    }
   ],
   "source": [
    "#checking the days, 0 is the busiest, 4 is the least busy\n",
    "merged['order_day_of_week'].value_counts()"
   ]
  },
  {
   "cell_type": "code",
   "execution_count": 13,
   "id": "81bd9448",
   "metadata": {},
   "outputs": [],
   "source": [
    "#for loop to create a list with the busiest day logic\n",
    "busy = []\n",
    "for day in merged['order_day_of_week']:\n",
    "    if day == 0:\n",
    "        busy.append('Busiest day')\n",
    "    elif day == 4:\n",
    "        busy.append('Least busy')\n",
    "    else:\n",
    "        busy.append('Regularly busy')"
   ]
  },
  {
   "cell_type": "code",
   "execution_count": 14,
   "id": "46542539",
   "metadata": {},
   "outputs": [],
   "source": [
    "#adding the result to the df\n",
    "merged['busiest_day'] = busy"
   ]
  },
  {
   "cell_type": "code",
   "execution_count": 16,
   "id": "7a856ba6",
   "metadata": {},
   "outputs": [
    {
     "data": {
      "text/plain": [
       "Regularly busy    22416875\n",
       "Busiest day        6204182\n",
       "Least busy         3783802\n",
       "Name: busiest_day, dtype: int64"
      ]
     },
     "execution_count": 16,
     "metadata": {},
     "output_type": "execute_result"
    }
   ],
   "source": [
    "#checking the data\n",
    "merged['busiest_day'].value_counts()"
   ]
  },
  {
   "cell_type": "markdown",
   "id": "211a79bd",
   "metadata": {},
   "source": [
    "## Creating busiest days column"
   ]
  },
  {
   "cell_type": "code",
   "execution_count": 20,
   "id": "7877dd50",
   "metadata": {},
   "outputs": [],
   "source": [
    "#the logic of the busiest_2_days column is as follows:\n",
    "#the 2 busiest day is set to 'Busiest days'\n",
    "#the 2 least busiest day is set to 'Least busy'\n",
    "#all other (3) days are set to 'Regularly busy'"
   ]
  },
  {
   "cell_type": "code",
   "execution_count": 21,
   "id": "ce80865c",
   "metadata": {},
   "outputs": [],
   "source": [
    "#busiest days are 0 and 1, least busy are 3 and 4\n",
    "busy2 = []\n",
    "for day in merged['order_day_of_week']:\n",
    "    if day == 0 or day == 1:\n",
    "        busy2.append('Busiest 2 days')\n",
    "    elif day == 3 or day == 4:\n",
    "        busy2.append('2 Least busy')\n",
    "    else:\n",
    "        busy2.append('Regularly busy')"
   ]
  },
  {
   "cell_type": "code",
   "execution_count": 22,
   "id": "58d7a1c4",
   "metadata": {},
   "outputs": [],
   "source": [
    "#adding the result to the df\n",
    "merged['busiest_2_days'] = busy2"
   ]
  },
  {
   "cell_type": "code",
   "execution_count": 25,
   "id": "55a742a4",
   "metadata": {},
   "outputs": [
    {
     "data": {
      "text/plain": [
       "Regularly busy    12916111\n",
       "Busiest 2 days    11864412\n",
       "2 Least busy       7624336\n",
       "Name: busiest_2_days, dtype: int64"
      ]
     },
     "execution_count": 25,
     "metadata": {},
     "output_type": "execute_result"
    }
   ],
   "source": [
    "#checking the values\n",
    "merged['busiest_2_days'].value_counts()"
   ]
  },
  {
   "cell_type": "markdown",
   "id": "9f708597",
   "metadata": {},
   "source": [
    "## Creating busiest period of day"
   ]
  },
  {
   "cell_type": "code",
   "execution_count": null,
   "id": "3b1d1b05",
   "metadata": {},
   "outputs": [],
   "source": [
    "#the logic of the busiest_period_of_day column is as follows:\n",
    "#the 6 busiest hours is set to 'Most orders'\n",
    "#the 6 least busiest hours is set to 'Least orders'\n",
    "#all other (12) hours are set to 'Average orders'"
   ]
  },
  {
   "cell_type": "code",
   "execution_count": 27,
   "id": "cc1f3444",
   "metadata": {},
   "outputs": [
    {
     "data": {
      "text/plain": [
       "10    2761760\n",
       "11    2736140\n",
       "14    2689136\n",
       "15    2662144\n",
       "13    2660954\n",
       "12    2618532\n",
       "16    2535202\n",
       "9     2454203\n",
       "17    2087654\n",
       "8     1718118\n",
       "18    1636502\n",
       "19    1258305\n",
       "20     976156\n",
       "7      891054\n",
       "21     795637\n",
       "22     634225\n",
       "23     402316\n",
       "6      290493\n",
       "0      218769\n",
       "1      115700\n",
       "5       87961\n",
       "2       69375\n",
       "4       53242\n",
       "3       51281\n",
       "Name: order_hour_of_day, dtype: int64"
      ]
     },
     "execution_count": 27,
     "metadata": {},
     "output_type": "execute_result"
    }
   ],
   "source": [
    "#checking the hours\n",
    "merged['order_hour_of_day'].value_counts()"
   ]
  },
  {
   "cell_type": "code",
   "execution_count": 33,
   "id": "fd24af9d",
   "metadata": {},
   "outputs": [],
   "source": [
    "#for loop to create time list, 0-5 are the least busy, 10-15 are the busiest\n",
    "time = []\n",
    "for hour in merged['order_hour_of_day']:\n",
    "    if hour in range(10,15):\n",
    "        time.append('Most orders')\n",
    "    elif hour in range (0,5):\n",
    "        time.append('Least orders')\n",
    "    else:\n",
    "        time.append('Average orders')"
   ]
  },
  {
   "cell_type": "code",
   "execution_count": 34,
   "id": "72a911d3",
   "metadata": {},
   "outputs": [],
   "source": [
    "#adding column to df\n",
    "merged['busiest_period_of_day'] = time"
   ]
  },
  {
   "cell_type": "code",
   "execution_count": 35,
   "id": "b97c364f",
   "metadata": {},
   "outputs": [
    {
     "data": {
      "text/plain": [
       "Average orders    18429970\n",
       "Most orders       13466522\n",
       "Least orders        508367\n",
       "Name: busiest_period_of_day, dtype: int64"
      ]
     },
     "execution_count": 35,
     "metadata": {},
     "output_type": "execute_result"
    }
   ],
   "source": [
    "#checking the values\n",
    "merged['busiest_period_of_day'].value_counts()"
   ]
  },
  {
   "cell_type": "markdown",
   "id": "dbdc6408",
   "metadata": {},
   "source": [
    "# Exporting Data"
   ]
  },
  {
   "cell_type": "code",
   "execution_count": 36,
   "id": "26f10c09",
   "metadata": {},
   "outputs": [],
   "source": [
    "#exporting as a pickle file\n",
    "merged.to_pickle(os.path.join(path,'02 Data','prepared data','merged_derived_vars.pkl'))"
   ]
  },
  {
   "cell_type": "code",
   "execution_count": null,
   "id": "f317fa90",
   "metadata": {},
   "outputs": [],
   "source": []
  }
 ],
 "metadata": {
  "kernelspec": {
   "display_name": "Python 3 (ipykernel)",
   "language": "python",
   "name": "python3"
  },
  "language_info": {
   "codemirror_mode": {
    "name": "ipython",
    "version": 3
   },
   "file_extension": ".py",
   "mimetype": "text/x-python",
   "name": "python",
   "nbconvert_exporter": "python",
   "pygments_lexer": "ipython3",
   "version": "3.9.7"
  }
 },
 "nbformat": 4,
 "nbformat_minor": 5
}
