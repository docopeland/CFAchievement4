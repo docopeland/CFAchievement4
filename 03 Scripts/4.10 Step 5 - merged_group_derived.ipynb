{
 "cells": [
  {
   "cell_type": "markdown",
   "id": "d999243d",
   "metadata": {},
   "source": [
    "# Importing Libraries"
   ]
  },
  {
   "cell_type": "code",
   "execution_count": 1,
   "id": "00793ce0",
   "metadata": {},
   "outputs": [],
   "source": [
    "import os\n",
    "import pandas as pd\n",
    "import numpy as np"
   ]
  },
  {
   "cell_type": "markdown",
   "id": "5dda7654",
   "metadata": {},
   "source": [
    "# Importing Data"
   ]
  },
  {
   "cell_type": "code",
   "execution_count": 2,
   "id": "5439a55a",
   "metadata": {},
   "outputs": [],
   "source": [
    "path = r'/Users/docopeland/04 Instacart Basket Analysis'\n",
    "derived = pd.read_pickle(os.path.join(path,'02 Data','prepared data','merged_derived_vars.pkl'))"
   ]
  },
  {
   "cell_type": "markdown",
   "id": "d95493d9",
   "metadata": {},
   "source": [
    "# Grouping Data & Deriving New Variables"
   ]
  },
  {
   "cell_type": "code",
   "execution_count": 3,
   "id": "5f3d5873",
   "metadata": {},
   "outputs": [
    {
     "data": {
      "text/plain": [
       "order_id                     int64\n",
       "user_id                      int64\n",
       "total_customer_orders        int64\n",
       "order_day_of_week            int64\n",
       "order_hour_of_day            int64\n",
       "days_since_prior_order     float64\n",
       "product_id                   int64\n",
       "add_to_cart_order            int64\n",
       "reordered                    int64\n",
       "_merge                    category\n",
       "product_name                object\n",
       "aisle_id                     int64\n",
       "department_id                int64\n",
       "prices                     float64\n",
       "price_range_loc             object\n",
       "busiest_day                 object\n",
       "busiest_2_days              object\n",
       "busiest_period_of_day       object\n",
       "dtype: object"
      ]
     },
     "execution_count": 3,
     "metadata": {},
     "output_type": "execute_result"
    }
   ],
   "source": [
    "derived.dtypes"
   ]
  },
  {
   "cell_type": "code",
   "execution_count": 4,
   "id": "38b41ff8",
   "metadata": {},
   "outputs": [
    {
     "data": {
      "text/plain": [
       "Index(['order_id', 'user_id', 'total_customer_orders', 'order_day_of_week',\n",
       "       'order_hour_of_day', 'days_since_prior_order', 'product_id',\n",
       "       'add_to_cart_order', 'reordered', '_merge', 'product_name', 'aisle_id',\n",
       "       'department_id', 'prices', 'price_range_loc', 'busiest_day',\n",
       "       'busiest_2_days', 'busiest_period_of_day'],\n",
       "      dtype='object')"
      ]
     },
     "execution_count": 4,
     "metadata": {},
     "output_type": "execute_result"
    }
   ],
   "source": [
    "derived.columns"
   ]
  },
  {
   "cell_type": "markdown",
   "id": "aa871765",
   "metadata": {},
   "source": [
    "## Create a loyalty_flag"
   ]
  },
  {
   "cell_type": "code",
   "execution_count": 5,
   "id": "af394136",
   "metadata": {},
   "outputs": [],
   "source": [
    "#create a max_order column with the max number of orders by user\n",
    "derived['max_order'] = derived.groupby('user_id')['total_customer_orders'].transform(np.max)"
   ]
  },
  {
   "cell_type": "code",
   "execution_count": 6,
   "id": "899d8d5c",
   "metadata": {},
   "outputs": [],
   "source": [
    "#create a loyalty_flag based on the following logic:\n",
    "#if the max_order is less than or equal to 10, new customer\n",
    "#if the max_order is greater 10 and less than 40, regular customer\n",
    "#if the max_order is greater than 40, loyal customer"
   ]
  },
  {
   "cell_type": "code",
   "execution_count": 7,
   "id": "b10ab3a0",
   "metadata": {},
   "outputs": [],
   "source": [
    "#new customer\n",
    "derived.loc[derived['max_order'] <= 10, 'loyalty_flag'] = 'New customer'"
   ]
  },
  {
   "cell_type": "code",
   "execution_count": 8,
   "id": "55cb4609",
   "metadata": {},
   "outputs": [],
   "source": [
    "#regular customer\n",
    "derived.loc[(derived['max_order'] > 10) & (derived['max_order'] <= 40), 'loyalty_flag'] = 'Regular customer'"
   ]
  },
  {
   "cell_type": "code",
   "execution_count": 9,
   "id": "f9750ee8",
   "metadata": {},
   "outputs": [],
   "source": [
    "#loyal customer\n",
    "derived.loc[derived['max_order'] > 40, 'loyalty_flag'] = 'Loyal customer'"
   ]
  },
  {
   "cell_type": "code",
   "execution_count": 10,
   "id": "143a8613",
   "metadata": {},
   "outputs": [
    {
     "data": {
      "text/plain": [
       "Regular customer    15876776\n",
       "Loyal customer      10284093\n",
       "New customer         6243990\n",
       "Name: loyalty_flag, dtype: int64"
      ]
     },
     "execution_count": 10,
     "metadata": {},
     "output_type": "execute_result"
    }
   ],
   "source": [
    "#checking the values\n",
    "derived['loyalty_flag'].value_counts()"
   ]
  },
  {
   "cell_type": "markdown",
   "id": "1d2f96ef",
   "metadata": {},
   "source": [
    "## Create a spender flag"
   ]
  },
  {
   "cell_type": "code",
   "execution_count": 11,
   "id": "c59979b0",
   "metadata": {},
   "outputs": [],
   "source": [
    "#create an user_avg column with the mean of the prices by user\n",
    "derived['user_avg'] = derived.groupby('user_id')['prices'].transform(np.mean)"
   ]
  },
  {
   "cell_type": "code",
   "execution_count": 12,
   "id": "b33b1183",
   "metadata": {},
   "outputs": [],
   "source": [
    "#create a spender flag based on the following logic:\n",
    "#if the user_avg is less than 10, low spender\n",
    "#if the user_avg is greater or equal to 10, high spender"
   ]
  },
  {
   "cell_type": "code",
   "execution_count": 13,
   "id": "1391afb2",
   "metadata": {},
   "outputs": [],
   "source": [
    "#low spender\n",
    "derived.loc[derived['user_avg'] < 10, 'spender_flag'] = 'Low spender'"
   ]
  },
  {
   "cell_type": "code",
   "execution_count": 14,
   "id": "f46f976c",
   "metadata": {},
   "outputs": [],
   "source": [
    "#high spender\n",
    "derived.loc[derived['user_avg'] >= 10, 'spender_flag'] = 'High spender'"
   ]
  },
  {
   "cell_type": "code",
   "execution_count": 15,
   "id": "b13cdfa6",
   "metadata": {},
   "outputs": [
    {
     "data": {
      "text/plain": [
       "Low spender     31770614\n",
       "High spender      634245\n",
       "Name: spender_flag, dtype: int64"
      ]
     },
     "execution_count": 15,
     "metadata": {},
     "output_type": "execute_result"
    }
   ],
   "source": [
    "#checking the values\n",
    "derived['spender_flag'].value_counts()"
   ]
  },
  {
   "cell_type": "markdown",
   "id": "ef4b2cf0",
   "metadata": {},
   "source": [
    "## Create a frequency flag"
   ]
  },
  {
   "cell_type": "code",
   "execution_count": 16,
   "id": "4e63f873",
   "metadata": {},
   "outputs": [],
   "source": [
    "#create a regularity column with the median of days_since_prior_order by user\n",
    "derived['regularity'] = derived.groupby('user_id')['days_since_prior_order'].transform(np.median)"
   ]
  },
  {
   "cell_type": "code",
   "execution_count": 17,
   "id": "8cdc2648",
   "metadata": {},
   "outputs": [],
   "source": [
    "#create a frequency flag based on the following logic:\n",
    "#if the regularity is less than or equal to 10, frequent customer\n",
    "#if the regularity is greater than 10 and less than equal to 20, regular customer\n",
    "#if the regularity is greater than 20, non-frequent customer"
   ]
  },
  {
   "cell_type": "code",
   "execution_count": 18,
   "id": "50e6d42a",
   "metadata": {},
   "outputs": [],
   "source": [
    "#frequent customer\n",
    "derived.loc[derived['regularity'] <= 10, 'frequency_flag'] = 'Frequent customer'"
   ]
  },
  {
   "cell_type": "code",
   "execution_count": 19,
   "id": "a99bec0d",
   "metadata": {},
   "outputs": [],
   "source": [
    "#regular customer\n",
    "derived.loc[(derived['regularity'] > 10) & (derived['regularity'] <= 20), 'frequency_flag'] = 'Regular customer'"
   ]
  },
  {
   "cell_type": "code",
   "execution_count": 20,
   "id": "fcebab50",
   "metadata": {},
   "outputs": [],
   "source": [
    "#non-frequent\n",
    "derived.loc[derived['regularity'] > 20, 'frequency_flag'] = 'Non-frequent customer'"
   ]
  },
  {
   "cell_type": "code",
   "execution_count": 21,
   "id": "e7a871e3",
   "metadata": {},
   "outputs": [
    {
     "data": {
      "text/plain": [
       "Frequent customer        21559853\n",
       "Regular customer          7208564\n",
       "Non-frequent customer     3636437\n",
       "Name: frequency_flag, dtype: int64"
      ]
     },
     "execution_count": 21,
     "metadata": {},
     "output_type": "execute_result"
    }
   ],
   "source": [
    "#checking the values\n",
    "derived['frequency_flag'].value_counts()"
   ]
  },
  {
   "cell_type": "markdown",
   "id": "cce4a72a",
   "metadata": {},
   "source": [
    "# Exporting Data"
   ]
  },
  {
   "cell_type": "code",
   "execution_count": 22,
   "id": "ed5f9ea7",
   "metadata": {},
   "outputs": [],
   "source": [
    "#exporting df as a pickle\n",
    "derived.to_pickle(os.path.join(path,'02 Data','prepared data','merged_group_derived.pkl'))"
   ]
  },
  {
   "cell_type": "code",
   "execution_count": null,
   "id": "070d9a62",
   "metadata": {},
   "outputs": [],
   "source": []
  }
 ],
 "metadata": {
  "kernelspec": {
   "display_name": "Python 3 (ipykernel)",
   "language": "python",
   "name": "python3"
  },
  "language_info": {
   "codemirror_mode": {
    "name": "ipython",
    "version": 3
   },
   "file_extension": ".py",
   "mimetype": "text/x-python",
   "name": "python",
   "nbconvert_exporter": "python",
   "pygments_lexer": "ipython3",
   "version": "3.9.7"
  }
 },
 "nbformat": 4,
 "nbformat_minor": 5
}
